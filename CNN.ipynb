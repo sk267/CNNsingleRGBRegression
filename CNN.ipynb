{
 "cells": [
  {
   "cell_type": "code",
   "execution_count": 1,
   "metadata": {},
   "outputs": [],
   "source": [
    "import tensorflow as tf\n",
    "from tensorflow.keras.models import Sequential\n",
    "from tensorflow.keras.layers import Dense, Dropout, Activation, Flatten, Conv2D, MaxPool2D, BatchNormalization, LeakyReLU\n",
    "import numpy as np\n",
    "from PIL import Image\n",
    "from tensorflow.keras.preprocessing.image import ImageDataGenerator\n",
    "from tensorflow.keras.callbacks import TensorBoard\n",
    "import time\n"
   ]
  },
  {
   "cell_type": "code",
   "execution_count": 2,
   "metadata": {},
   "outputs": [],
   "source": [
    "EPOCH_COUNT = 50\n",
    "\n",
    "NAME = f\"single_rgb_image_regression_V02_epochs_{EPOCH_COUNT}_{int(time.time())}\"\n"
   ]
  },
  {
   "cell_type": "code",
   "execution_count": 3,
   "metadata": {},
   "outputs": [],
   "source": [
    "tensorboard = TensorBoard(log_dir=\"logs/{}\".format(NAME))"
   ]
  },
  {
   "cell_type": "code",
   "execution_count": 4,
   "metadata": {},
   "outputs": [],
   "source": [
    "# def create_data_via_ImageDataGenerator():\n",
    "#     train = ImageDataGenerator(rescale=1/255)\n",
    "#     validation = ImageDataGenerator(rescale=1/255)\n",
    "#     train_dataset = train.flow_from_directory(\"../Data/Train/smallTown\",\n",
    "#                                               target_size=(60, 60), batch_size=3, class_mode='binary')\n",
    "#     validation_dataset = train.flow_from_directory(\"../Data/Train/smallTown\",\n",
    "#                                                target_size=(60, 60), batch_size=3, class_mode='binary')\n"
   ]
  },
  {
   "cell_type": "code",
   "execution_count": 5,
   "metadata": {},
   "outputs": [],
   "source": [
    "def load_data_via_numpy_load():\n",
    "    return (np.load(\"CNN_trainset_single_RGB_regression_V02_X.npy\")/255, np.load(\"CNN_trainset_single_RGB_regression_V02_Y.npy\"))\n"
   ]
  },
  {
   "cell_type": "code",
   "execution_count": 6,
   "metadata": {},
   "outputs": [],
   "source": [
    "X, Y = load_data_via_numpy_load()\n"
   ]
  },
  {
   "cell_type": "code",
   "execution_count": 7,
   "metadata": {},
   "outputs": [],
   "source": [
    "# X\n",
    "\n"
   ]
  },
  {
   "cell_type": "code",
   "execution_count": 8,
   "metadata": {},
   "outputs": [
    {
     "data": {
      "text/plain": [
       "(60000, 60, 60, 3)"
      ]
     },
     "execution_count": 8,
     "metadata": {},
     "output_type": "execute_result"
    }
   ],
   "source": [
    "X.shape"
   ]
  },
  {
   "cell_type": "code",
   "execution_count": 9,
   "metadata": {},
   "outputs": [
    {
     "data": {
      "text/plain": [
       "(60000, 60, 60, 3)"
      ]
     },
     "execution_count": 9,
     "metadata": {},
     "output_type": "execute_result"
    }
   ],
   "source": [
    "\n",
    "\n",
    "X = X.reshape(-1, 60, 60, 3)\n",
    "\n",
    "X.shape\n"
   ]
  },
  {
   "cell_type": "code",
   "execution_count": 10,
   "metadata": {},
   "outputs": [],
   "source": [
    "def build_model():\n",
    "    model = Sequential()\n",
    "\n",
    "    # 1st Conv-Layer\n",
    "    model.add(Conv2D(128, (3, 3), input_shape=(X.shape[1:])))\n",
    "    model.add(Activation(LeakyReLU(alpha=0.2)))\n",
    "    model.add(BatchNormalization())\n",
    "    model.add(MaxPool2D(2, 2))\n",
    "\n",
    "    # 2nd Conv-Layer\n",
    "    model.add(Conv2D(192, (3, 3)))\n",
    "    model.add(Activation(LeakyReLU(alpha=0.2)))\n",
    "    model.add(BatchNormalization())\n",
    "    model.add(MaxPool2D(pool_size=(2, 2)))\n",
    "    \n",
    "    # 3rd Conv-Layer\n",
    "    model.add(Conv2D(320, (3, 3)))\n",
    "    model.add(Activation(LeakyReLU(alpha=0.2)))\n",
    "    model.add(BatchNormalization())\n",
    "    model.add(MaxPool2D(pool_size=(2, 2)))\n",
    "\n",
    "    # 4th Conv-Layer\n",
    "    model.add(Conv2D(576, (3, 3)))\n",
    "    model.add(Activation(LeakyReLU(alpha=0.2)))\n",
    "    model.add(BatchNormalization())\n",
    "    model.add(MaxPool2D(pool_size=(2, 2)))\n",
    "\n",
    "    model.add(Flatten())\n",
    "\n",
    "    # 1st Fully-Connected\n",
    "    model.add(Dense(4096))\n",
    "    model.add(Activation(LeakyReLU(alpha=0.2)))\n",
    "\n",
    "    # 2nd Fully-Connected\n",
    "    model.add(Dense(4096))\n",
    "    model.add(Activation(LeakyReLU(alpha=0.2)))\n",
    "\n",
    "    # 3rd Fully-Connected\n",
    "    model.add(Dense(1))\n",
    "    # model.add(Activation(\"sigmoid\"))\n",
    "    return model\n",
    "\n",
    "\n",
    "model = build_model()\n"
   ]
  },
  {
   "cell_type": "code",
   "execution_count": 11,
   "metadata": {},
   "outputs": [
    {
     "name": "stdout",
     "output_type": "stream",
     "text": [
      "Model: \"sequential\"\n",
      "_________________________________________________________________\n",
      "Layer (type)                 Output Shape              Param #   \n",
      "=================================================================\n",
      "conv2d (Conv2D)              (None, 58, 58, 128)       3584      \n",
      "_________________________________________________________________\n",
      "activation (Activation)      (None, 58, 58, 128)       0         \n",
      "_________________________________________________________________\n",
      "batch_normalization (BatchNo (None, 58, 58, 128)       512       \n",
      "_________________________________________________________________\n",
      "max_pooling2d (MaxPooling2D) (None, 29, 29, 128)       0         \n",
      "_________________________________________________________________\n",
      "conv2d_1 (Conv2D)            (None, 27, 27, 192)       221376    \n",
      "_________________________________________________________________\n",
      "activation_1 (Activation)    (None, 27, 27, 192)       0         \n",
      "_________________________________________________________________\n",
      "batch_normalization_1 (Batch (None, 27, 27, 192)       768       \n",
      "_________________________________________________________________\n",
      "max_pooling2d_1 (MaxPooling2 (None, 13, 13, 192)       0         \n",
      "_________________________________________________________________\n",
      "conv2d_2 (Conv2D)            (None, 11, 11, 320)       553280    \n",
      "_________________________________________________________________\n",
      "activation_2 (Activation)    (None, 11, 11, 320)       0         \n",
      "_________________________________________________________________\n",
      "batch_normalization_2 (Batch (None, 11, 11, 320)       1280      \n",
      "_________________________________________________________________\n",
      "max_pooling2d_2 (MaxPooling2 (None, 5, 5, 320)         0         \n",
      "_________________________________________________________________\n",
      "conv2d_3 (Conv2D)            (None, 3, 3, 576)         1659456   \n",
      "_________________________________________________________________\n",
      "activation_3 (Activation)    (None, 3, 3, 576)         0         \n",
      "_________________________________________________________________\n",
      "batch_normalization_3 (Batch (None, 3, 3, 576)         2304      \n",
      "_________________________________________________________________\n",
      "max_pooling2d_3 (MaxPooling2 (None, 1, 1, 576)         0         \n",
      "_________________________________________________________________\n",
      "flatten (Flatten)            (None, 576)               0         \n",
      "_________________________________________________________________\n",
      "dense (Dense)                (None, 4096)              2363392   \n",
      "_________________________________________________________________\n",
      "activation_4 (Activation)    (None, 4096)              0         \n",
      "_________________________________________________________________\n",
      "dense_1 (Dense)              (None, 4096)              16781312  \n",
      "_________________________________________________________________\n",
      "activation_5 (Activation)    (None, 4096)              0         \n",
      "_________________________________________________________________\n",
      "dense_2 (Dense)              (None, 1)                 4097      \n",
      "=================================================================\n",
      "Total params: 21,591,361\n",
      "Trainable params: 21,588,929\n",
      "Non-trainable params: 2,432\n",
      "_________________________________________________________________\n"
     ]
    }
   ],
   "source": [
    "\n",
    "model.compile(loss=\"mse\", optimizer=\"adam\", metrics=[\"accuracy\"])\n",
    "model.summary()"
   ]
  },
  {
   "cell_type": "code",
   "execution_count": 12,
   "metadata": {},
   "outputs": [
    {
     "name": "stdout",
     "output_type": "stream",
     "text": [
      "Epoch 1/50\n",
      "1688/1688 [==============================] - 123s 52ms/step - loss: 1.2097 - accuracy: 0.3803 - val_loss: 0.0219 - val_accuracy: 0.3990\n",
      "Epoch 2/50\n",
      "1688/1688 [==============================] - 80s 48ms/step - loss: 0.0179 - accuracy: 0.3933 - val_loss: 0.0139 - val_accuracy: 0.3970\n",
      "Epoch 3/50\n",
      "1688/1688 [==============================] - 80s 47ms/step - loss: 0.0132 - accuracy: 0.3943 - val_loss: 0.0094 - val_accuracy: 0.3992\n",
      "Epoch 4/50\n",
      "1688/1688 [==============================] - 80s 47ms/step - loss: 23.0746 - accuracy: 0.3860 - val_loss: 39.8869 - val_accuracy: 0.1897\n",
      "Epoch 5/50\n",
      "1688/1688 [==============================] - 80s 47ms/step - loss: 0.1733 - accuracy: 0.3531 - val_loss: 0.3343 - val_accuracy: 0.3355\n",
      "Epoch 6/50\n",
      "1688/1688 [==============================] - 83s 49ms/step - loss: 0.0863 - accuracy: 0.3716 - val_loss: 0.0383 - val_accuracy: 0.3983\n",
      "Epoch 7/50\n",
      "1688/1688 [==============================] - 82s 49ms/step - loss: 0.0594 - accuracy: 0.3797 - val_loss: 0.0378 - val_accuracy: 0.3902\n",
      "Epoch 8/50\n",
      "1688/1688 [==============================] - 82s 48ms/step - loss: 306.8055 - accuracy: 0.2782 - val_loss: 3.0247 - val_accuracy: 0.2357\n",
      "Epoch 9/50\n",
      "1688/1688 [==============================] - 82s 48ms/step - loss: 2.9320 - accuracy: 0.2526 - val_loss: 0.3520 - val_accuracy: 0.2608\n",
      "Epoch 10/50\n",
      "1688/1688 [==============================] - 80s 47ms/step - loss: 1.4587 - accuracy: 0.2771 - val_loss: 0.2477 - val_accuracy: 0.3542\n",
      "Epoch 11/50\n",
      "1688/1688 [==============================] - 81s 48ms/step - loss: 1.1200 - accuracy: 0.2858 - val_loss: 0.2485 - val_accuracy: 0.3307\n",
      "Epoch 12/50\n",
      "1688/1688 [==============================] - 81s 48ms/step - loss: 0.4405 - accuracy: 0.3094 - val_loss: 0.3368 - val_accuracy: 0.3342\n",
      "Epoch 13/50\n",
      "1688/1688 [==============================] - 81s 48ms/step - loss: 599.2039 - accuracy: 0.3245 - val_loss: 11.1375 - val_accuracy: 0.2287\n",
      "Epoch 14/50\n",
      "1688/1688 [==============================] - 81s 48ms/step - loss: 2.1371 - accuracy: 0.2214 - val_loss: 1.1049 - val_accuracy: 0.2195\n",
      "Epoch 15/50\n",
      "1688/1688 [==============================] - 81s 48ms/step - loss: 3.9526 - accuracy: 0.2231 - val_loss: 0.6218 - val_accuracy: 0.2195\n",
      "Epoch 16/50\n",
      "1688/1688 [==============================] - 81s 48ms/step - loss: 3.8831 - accuracy: 0.2277 - val_loss: 0.5273 - val_accuracy: 0.2488\n",
      "Epoch 17/50\n",
      "1688/1688 [==============================] - 81s 48ms/step - loss: 2.0297 - accuracy: 0.2614 - val_loss: 0.3447 - val_accuracy: 0.2373\n",
      "Epoch 18/50\n",
      "1688/1688 [==============================] - 81s 48ms/step - loss: 0.8584 - accuracy: 0.2974 - val_loss: 0.2047 - val_accuracy: 0.3005\n",
      "Epoch 19/50\n",
      "1688/1688 [==============================] - 81s 48ms/step - loss: 0.3710 - accuracy: 0.3275 - val_loss: 0.0884 - val_accuracy: 0.3777\n",
      "Epoch 20/50\n",
      "1688/1688 [==============================] - 79s 47ms/step - loss: 0.1519 - accuracy: 0.3568 - val_loss: 0.0324 - val_accuracy: 0.3972\n",
      "Epoch 21/50\n",
      "1688/1688 [==============================] - 81s 48ms/step - loss: 0.0678 - accuracy: 0.3780 - val_loss: 0.0615 - val_accuracy: 0.3970\n",
      "Epoch 22/50\n",
      "1688/1688 [==============================] - 79s 47ms/step - loss: 183.7758 - accuracy: 0.3397 - val_loss: 0.1804 - val_accuracy: 0.3512\n",
      "Epoch 23/50\n",
      "1688/1688 [==============================] - 81s 48ms/step - loss: 0.2431 - accuracy: 0.3395 - val_loss: 0.2788 - val_accuracy: 0.3603\n",
      "Epoch 24/50\n",
      "1688/1688 [==============================] - 80s 48ms/step - loss: 0.9212 - accuracy: 0.3404 - val_loss: 0.0728 - val_accuracy: 0.3585\n",
      "Epoch 25/50\n",
      "1688/1688 [==============================] - 81s 48ms/step - loss: 0.3332 - accuracy: 0.3457 - val_loss: 1.0151 - val_accuracy: 0.2453\n",
      "Epoch 26/50\n",
      "1688/1688 [==============================] - 81s 48ms/step - loss: 0.3419 - accuracy: 0.3393 - val_loss: 0.0768 - val_accuracy: 0.3747\n",
      "Epoch 27/50\n",
      "1688/1688 [==============================] - 81s 48ms/step - loss: 0.1776 - accuracy: 0.3572 - val_loss: 0.0595 - val_accuracy: 0.3822\n",
      "Epoch 28/50\n",
      "1688/1688 [==============================] - 81s 48ms/step - loss: 0.0823 - accuracy: 0.3754 - val_loss: 0.0187 - val_accuracy: 0.3992\n",
      "Epoch 29/50\n",
      "1688/1688 [==============================] - 81s 48ms/step - loss: 0.0379 - accuracy: 0.3875 - val_loss: 0.0188 - val_accuracy: 0.3967\n",
      "Epoch 30/50\n",
      "1688/1688 [==============================] - 81s 48ms/step - loss: 46.8231 - accuracy: 0.3682 - val_loss: 0.0689 - val_accuracy: 0.3723\n",
      "Epoch 31/50\n",
      "1688/1688 [==============================] - 81s 48ms/step - loss: 0.0922 - accuracy: 0.3699 - val_loss: 0.0939 - val_accuracy: 0.3650\n",
      "Epoch 32/50\n",
      "1688/1688 [==============================] - 81s 48ms/step - loss: 0.1469 - accuracy: 0.3706 - val_loss: 0.1191 - val_accuracy: 0.3918\n",
      "Epoch 33/50\n",
      "1688/1688 [==============================] - 81s 48ms/step - loss: 0.1653 - accuracy: 0.3630 - val_loss: 0.2397 - val_accuracy: 0.3782\n",
      "Epoch 34/50\n",
      "1688/1688 [==============================] - 81s 48ms/step - loss: 0.1210 - accuracy: 0.3671 - val_loss: 0.1945 - val_accuracy: 0.3595\n",
      "Epoch 35/50\n",
      "1688/1688 [==============================] - 81s 48ms/step - loss: 0.0682 - accuracy: 0.3807 - val_loss: 0.0283 - val_accuracy: 0.3965\n",
      "Epoch 36/50\n",
      "1688/1688 [==============================] - 81s 48ms/step - loss: 0.0360 - accuracy: 0.3887 - val_loss: 0.0242 - val_accuracy: 0.3990\n",
      "Epoch 37/50\n",
      "1688/1688 [==============================] - 81s 48ms/step - loss: 0.0212 - accuracy: 0.3926 - val_loss: 0.0155 - val_accuracy: 0.3968\n",
      "Epoch 38/50\n",
      "1688/1688 [==============================] - 80s 47ms/step - loss: 0.0176 - accuracy: 0.3930 - val_loss: 0.0127 - val_accuracy: 0.3988\n",
      "Epoch 39/50\n",
      "1688/1688 [==============================] - 81s 48ms/step - loss: 13.5652 - accuracy: 0.3770 - val_loss: 0.0161 - val_accuracy: 0.3982\n",
      "Epoch 40/50\n",
      "1688/1688 [==============================] - 81s 48ms/step - loss: 0.0530 - accuracy: 0.3822 - val_loss: 0.0271 - val_accuracy: 0.3972\n",
      "Epoch 41/50\n",
      "1688/1688 [==============================] - 81s 48ms/step - loss: 0.0908 - accuracy: 0.3684 - val_loss: 0.0109 - val_accuracy: 0.3970\n",
      "Epoch 42/50\n",
      "1688/1688 [==============================] - 79s 47ms/step - loss: 0.0808 - accuracy: 0.3755 - val_loss: 0.0477 - val_accuracy: 0.3822\n",
      "Epoch 43/50\n",
      "1688/1688 [==============================] - 79s 47ms/step - loss: 0.0370 - accuracy: 0.3892 - val_loss: 0.0093 - val_accuracy: 0.3970\n",
      "Epoch 44/50\n",
      "1688/1688 [==============================] - 80s 47ms/step - loss: 0.0206 - accuracy: 0.3921 - val_loss: 0.0133 - val_accuracy: 0.3987\n",
      "Epoch 45/50\n",
      "1688/1688 [==============================] - 81s 48ms/step - loss: 0.0150 - accuracy: 0.3940 - val_loss: 0.0064 - val_accuracy: 0.3988\n",
      "Epoch 46/50\n",
      "1688/1688 [==============================] - 81s 48ms/step - loss: 4.5427 - accuracy: 0.3623 - val_loss: 0.0234 - val_accuracy: 0.3983\n",
      "Epoch 47/50\n",
      "1688/1688 [==============================] - 81s 48ms/step - loss: 0.1138 - accuracy: 0.3686 - val_loss: 0.0630 - val_accuracy: 0.3920\n",
      "Epoch 48/50\n",
      "1688/1688 [==============================] - 81s 48ms/step - loss: 0.0619 - accuracy: 0.3812 - val_loss: 0.0209 - val_accuracy: 0.3985\n",
      "Epoch 49/50\n",
      "1688/1688 [==============================] - 81s 48ms/step - loss: 0.0330 - accuracy: 0.3899 - val_loss: 0.0124 - val_accuracy: 0.3985\n",
      "Epoch 50/50\n",
      "1688/1688 [==============================] - 81s 48ms/step - loss: 5.1809 - accuracy: 0.3722 - val_loss: 0.0274 - val_accuracy: 0.3838\n"
     ]
    },
    {
     "data": {
      "text/plain": [
       "<tensorflow.python.keras.callbacks.History at 0x1c2b34a6c70>"
      ]
     },
     "execution_count": 12,
     "metadata": {},
     "output_type": "execute_result"
    }
   ],
   "source": [
    "model.fit(X, Y, batch_size=32, epochs=EPOCH_COUNT, validation_split=0.1, callbacks=[tensorboard])"
   ]
  },
  {
   "cell_type": "markdown",
   "metadata": {},
   "source": [
    "# Test\n"
   ]
  },
  {
   "cell_type": "code",
   "execution_count": 13,
   "metadata": {},
   "outputs": [],
   "source": [
    "# model = tf.keras.models.load_model(\"./models/single_rgb_image_big_dataset\")\n"
   ]
  },
  {
   "cell_type": "code",
   "execution_count": 14,
   "metadata": {},
   "outputs": [],
   "source": [
    "# # Alias\n",
    "\n",
    "# img1 = Image.open(\n",
    "#     \"D:\\Main\\MA_PROGR\\Data\\Train\\LED_Wand_Aufnahmen\\Alias\\LED_Wand_20001.png\")\n",
    "# img1 = np.asarray(img1)/255\n",
    "\n",
    "\n",
    "\n",
    "\n",
    "# img1 = img1.reshape(1,60,60,3)\n",
    "# print(img1.shape)\n",
    "# # print(img1)\n",
    "# res1 = model.predict(img1)\n",
    "# print(res1)\n"
   ]
  },
  {
   "cell_type": "code",
   "execution_count": null,
   "metadata": {},
   "outputs": [],
   "source": []
  },
  {
   "cell_type": "code",
   "execution_count": 15,
   "metadata": {},
   "outputs": [],
   "source": [
    "# # NoAlias\n",
    "\n",
    "# img2 = Image.open(\n",
    "#     \"D:\\\\Main\\\\MA_PROGR\\\\Data\\\\Train\\\\LED_Wand_Aufnahmen\\\\NoAlias\\\\abstract_cross_203.png\")\n",
    "# img2 = np.asarray(img2)/255\n",
    "\n",
    "# img2 = img2.reshape(1, 60, 60, 3)\n",
    "# img2.shape\n",
    "# # print(img2)\n",
    "# res2 = model.predict(img2)\n",
    "# print(res2)\n"
   ]
  },
  {
   "cell_type": "code",
   "execution_count": 16,
   "metadata": {},
   "outputs": [],
   "source": [
    "# import matplotlib.pyplot as plt\n",
    "# plt.imshow(img2.reshape(60, 60, 3))\n"
   ]
  },
  {
   "cell_type": "code",
   "execution_count": 17,
   "metadata": {},
   "outputs": [
    {
     "name": "stderr",
     "output_type": "stream",
     "text": [
      "WARNING:absl:Found untraced functions such as leaky_re_lu_layer_call_fn, leaky_re_lu_layer_call_and_return_conditional_losses, leaky_re_lu_1_layer_call_fn, leaky_re_lu_1_layer_call_and_return_conditional_losses, leaky_re_lu_2_layer_call_fn while saving (showing 5 of 30). These functions will not be directly callable after loading.\n"
     ]
    },
    {
     "name": "stdout",
     "output_type": "stream",
     "text": [
      "INFO:tensorflow:Assets written to: ./models/single_rgb_image_regression_V02_epochs_50_1653373797\\assets\n"
     ]
    },
    {
     "name": "stderr",
     "output_type": "stream",
     "text": [
      "INFO:tensorflow:Assets written to: ./models/single_rgb_image_regression_V02_epochs_50_1653373797\\assets\n"
     ]
    }
   ],
   "source": [
    "tf.keras.models.save_model(model, \"./models/{}\".format(NAME))"
   ]
  },
  {
   "cell_type": "code",
   "execution_count": null,
   "metadata": {},
   "outputs": [],
   "source": []
  }
 ],
 "metadata": {
  "interpreter": {
   "hash": "d43609f6cdec273ce12557ca6f3f8247541891c98e0751903c9ccac41aea639d"
  },
  "kernelspec": {
   "display_name": "Python 3.9.7 ('tf_gpu')",
   "language": "python",
   "name": "python3"
  },
  "language_info": {
   "codemirror_mode": {
    "name": "ipython",
    "version": 3
   },
   "file_extension": ".py",
   "mimetype": "text/x-python",
   "name": "python",
   "nbconvert_exporter": "python",
   "pygments_lexer": "ipython3",
   "version": "3.9.7"
  },
  "orig_nbformat": 4
 },
 "nbformat": 4,
 "nbformat_minor": 2
}
