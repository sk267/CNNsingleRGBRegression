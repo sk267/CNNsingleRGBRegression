{
 "cells": [
  {
   "cell_type": "code",
   "execution_count": 1,
   "metadata": {},
   "outputs": [],
   "source": [
    "import tensorflow as tf\n",
    "from tensorflow.keras.models import Sequential\n",
    "from tensorflow.keras.layers import Dense, Dropout, Activation, Flatten, Conv2D, MaxPool2D, BatchNormalization, LeakyReLU\n",
    "import numpy as np\n",
    "from PIL import Image\n",
    "from tensorflow.keras.preprocessing.image import ImageDataGenerator\n",
    "from tensorflow.keras.callbacks import TensorBoard\n",
    "import time\n"
   ]
  },
  {
   "cell_type": "code",
   "execution_count": 2,
   "metadata": {},
   "outputs": [],
   "source": [
    "EPOCH_COUNT = 100\n",
    "\n",
    "NAME = f\"single_rgb_image_regression_V02_epochs_{EPOCH_COUNT}_{int(time.time())}\"\n"
   ]
  },
  {
   "cell_type": "code",
   "execution_count": 3,
   "metadata": {},
   "outputs": [],
   "source": [
    "tensorboard = TensorBoard(log_dir=\"logs/{}\".format(NAME))"
   ]
  },
  {
   "cell_type": "code",
   "execution_count": 4,
   "metadata": {},
   "outputs": [],
   "source": [
    "# def create_data_via_ImageDataGenerator():\n",
    "#     train = ImageDataGenerator(rescale=1/255)\n",
    "#     validation = ImageDataGenerator(rescale=1/255)\n",
    "#     train_dataset = train.flow_from_directory(\"../Data/Train/smallTown\",\n",
    "#                                               target_size=(60, 60), batch_size=3, class_mode='binary')\n",
    "#     validation_dataset = train.flow_from_directory(\"../Data/Train/smallTown\",\n",
    "#                                                target_size=(60, 60), batch_size=3, class_mode='binary')\n"
   ]
  },
  {
   "cell_type": "code",
   "execution_count": 5,
   "metadata": {},
   "outputs": [],
   "source": [
    "def load_data_via_numpy_load():\n",
    "    return (np.load(\"CNN_trainset_single_RGB_regression_V02_X.npy\")/255, np.load(\"CNN_trainset_single_RGB_regression_V02_Y.npy\"))\n"
   ]
  },
  {
   "cell_type": "code",
   "execution_count": 6,
   "metadata": {},
   "outputs": [],
   "source": [
    "X, Y = load_data_via_numpy_load()\n"
   ]
  },
  {
   "cell_type": "code",
   "execution_count": 7,
   "metadata": {},
   "outputs": [],
   "source": [
    "# X\n",
    "\n"
   ]
  },
  {
   "cell_type": "code",
   "execution_count": 8,
   "metadata": {},
   "outputs": [
    {
     "data": {
      "text/plain": [
       "(60000, 60, 60, 3)"
      ]
     },
     "execution_count": 8,
     "metadata": {},
     "output_type": "execute_result"
    }
   ],
   "source": [
    "X.shape"
   ]
  },
  {
   "cell_type": "code",
   "execution_count": 9,
   "metadata": {},
   "outputs": [
    {
     "data": {
      "text/plain": [
       "(60000, 60, 60, 3)"
      ]
     },
     "execution_count": 9,
     "metadata": {},
     "output_type": "execute_result"
    }
   ],
   "source": [
    "\n",
    "\n",
    "X = X.reshape(-1, 60, 60, 3)\n",
    "\n",
    "X.shape\n"
   ]
  },
  {
   "cell_type": "code",
   "execution_count": 10,
   "metadata": {},
   "outputs": [],
   "source": [
    "def build_model():\n",
    "    model = Sequential()\n",
    "\n",
    "    # 1st Conv-Layer\n",
    "    model.add(Conv2D(128, (3, 3), input_shape=(X.shape[1:])))\n",
    "    model.add(Activation(LeakyReLU(alpha=0.2)))\n",
    "    model.add(BatchNormalization())\n",
    "    model.add(MaxPool2D(2, 2))\n",
    "\n",
    "    # 2nd Conv-Layer\n",
    "    model.add(Conv2D(192, (3, 3)))\n",
    "    model.add(Activation(LeakyReLU(alpha=0.2)))\n",
    "    model.add(BatchNormalization())\n",
    "    model.add(MaxPool2D(pool_size=(2, 2)))\n",
    "    \n",
    "    # 3rd Conv-Layer\n",
    "    model.add(Conv2D(320, (3, 3)))\n",
    "    model.add(Activation(LeakyReLU(alpha=0.2)))\n",
    "    model.add(BatchNormalization())\n",
    "    model.add(MaxPool2D(pool_size=(2, 2)))\n",
    "\n",
    "    # 4th Conv-Layer\n",
    "    model.add(Conv2D(576, (3, 3)))\n",
    "    model.add(Activation(LeakyReLU(alpha=0.2)))\n",
    "    model.add(BatchNormalization())\n",
    "    model.add(MaxPool2D(pool_size=(2, 2)))\n",
    "\n",
    "    model.add(Flatten())\n",
    "\n",
    "    # 1st Fully-Connected\n",
    "    model.add(Dense(4096))\n",
    "    model.add(Activation(LeakyReLU(alpha=0.2)))\n",
    "\n",
    "    # 2nd Fully-Connected\n",
    "    model.add(Dense(4096))\n",
    "    model.add(Activation(LeakyReLU(alpha=0.2)))\n",
    "\n",
    "    # 3rd Fully-Connected\n",
    "    model.add(Dense(1))\n",
    "    # model.add(Activation(\"sigmoid\"))\n",
    "    return model\n",
    "\n",
    "\n",
    "model = build_model()\n"
   ]
  },
  {
   "cell_type": "code",
   "execution_count": 11,
   "metadata": {},
   "outputs": [
    {
     "name": "stdout",
     "output_type": "stream",
     "text": [
      "Model: \"sequential\"\n",
      "_________________________________________________________________\n",
      "Layer (type)                 Output Shape              Param #   \n",
      "=================================================================\n",
      "conv2d (Conv2D)              (None, 58, 58, 128)       3584      \n",
      "_________________________________________________________________\n",
      "activation (Activation)      (None, 58, 58, 128)       0         \n",
      "_________________________________________________________________\n",
      "batch_normalization (BatchNo (None, 58, 58, 128)       512       \n",
      "_________________________________________________________________\n",
      "max_pooling2d (MaxPooling2D) (None, 29, 29, 128)       0         \n",
      "_________________________________________________________________\n",
      "conv2d_1 (Conv2D)            (None, 27, 27, 192)       221376    \n",
      "_________________________________________________________________\n",
      "activation_1 (Activation)    (None, 27, 27, 192)       0         \n",
      "_________________________________________________________________\n",
      "batch_normalization_1 (Batch (None, 27, 27, 192)       768       \n",
      "_________________________________________________________________\n",
      "max_pooling2d_1 (MaxPooling2 (None, 13, 13, 192)       0         \n",
      "_________________________________________________________________\n",
      "conv2d_2 (Conv2D)            (None, 11, 11, 320)       553280    \n",
      "_________________________________________________________________\n",
      "activation_2 (Activation)    (None, 11, 11, 320)       0         \n",
      "_________________________________________________________________\n",
      "batch_normalization_2 (Batch (None, 11, 11, 320)       1280      \n",
      "_________________________________________________________________\n",
      "max_pooling2d_2 (MaxPooling2 (None, 5, 5, 320)         0         \n",
      "_________________________________________________________________\n",
      "conv2d_3 (Conv2D)            (None, 3, 3, 576)         1659456   \n",
      "_________________________________________________________________\n",
      "activation_3 (Activation)    (None, 3, 3, 576)         0         \n",
      "_________________________________________________________________\n",
      "batch_normalization_3 (Batch (None, 3, 3, 576)         2304      \n",
      "_________________________________________________________________\n",
      "max_pooling2d_3 (MaxPooling2 (None, 1, 1, 576)         0         \n",
      "_________________________________________________________________\n",
      "flatten (Flatten)            (None, 576)               0         \n",
      "_________________________________________________________________\n",
      "dense (Dense)                (None, 4096)              2363392   \n",
      "_________________________________________________________________\n",
      "activation_4 (Activation)    (None, 4096)              0         \n",
      "_________________________________________________________________\n",
      "dense_1 (Dense)              (None, 4096)              16781312  \n",
      "_________________________________________________________________\n",
      "activation_5 (Activation)    (None, 4096)              0         \n",
      "_________________________________________________________________\n",
      "dense_2 (Dense)              (None, 1)                 4097      \n",
      "=================================================================\n",
      "Total params: 21,591,361\n",
      "Trainable params: 21,588,929\n",
      "Non-trainable params: 2,432\n",
      "_________________________________________________________________\n"
     ]
    }
   ],
   "source": [
    "\n",
    "model.compile(loss=\"mse\", optimizer=\"adam\", metrics=[\"mse\"])\n",
    "model.summary()"
   ]
  },
  {
   "cell_type": "code",
   "execution_count": 12,
   "metadata": {},
   "outputs": [
    {
     "name": "stdout",
     "output_type": "stream",
     "text": [
      "Epoch 1/100\n",
      "1688/1688 [==============================] - 143s 55ms/step - loss: 1.0056 - mse: 1.0056 - val_loss: 0.0376 - val_mse: 0.0376\n",
      "Epoch 2/100\n",
      "1688/1688 [==============================] - 80s 48ms/step - loss: 0.0161 - mse: 0.0161 - val_loss: 0.0083 - val_mse: 0.0083\n",
      "Epoch 3/100\n",
      "1688/1688 [==============================] - 82s 48ms/step - loss: 30.8580 - mse: 30.8580 - val_loss: 0.1459 - val_mse: 0.1459\n",
      "Epoch 4/100\n",
      "1688/1688 [==============================] - 82s 49ms/step - loss: 0.1764 - mse: 0.1764 - val_loss: 0.2783 - val_mse: 0.2783\n",
      "Epoch 5/100\n",
      "1688/1688 [==============================] - 85s 50ms/step - loss: 0.2262 - mse: 0.2262 - val_loss: 0.9839 - val_mse: 0.9839\n",
      "Epoch 6/100\n",
      "1688/1688 [==============================] - 83s 49ms/step - loss: 0.1469 - mse: 0.1469 - val_loss: 0.0307 - val_mse: 0.0307\n",
      "Epoch 7/100\n",
      "1688/1688 [==============================] - 80s 47ms/step - loss: 0.0525 - mse: 0.0525 - val_loss: 0.0332 - val_mse: 0.0332\n",
      "Epoch 8/100\n",
      "1688/1688 [==============================] - 79s 47ms/step - loss: 0.0256 - mse: 0.0256 - val_loss: 0.0167 - val_mse: 0.0167\n",
      "Epoch 9/100\n",
      "1688/1688 [==============================] - 80s 48ms/step - loss: 0.0153 - mse: 0.0153 - val_loss: 0.0098 - val_mse: 0.0098\n",
      "Epoch 10/100\n",
      "1688/1688 [==============================] - 80s 48ms/step - loss: 0.0132 - mse: 0.0132 - val_loss: 0.0135 - val_mse: 0.0135\n",
      "Epoch 11/100\n",
      "1688/1688 [==============================] - 81s 48ms/step - loss: 54.4584 - mse: 54.4584 - val_loss: 0.3265 - val_mse: 0.3265\n",
      "Epoch 12/100\n",
      "1688/1688 [==============================] - 80s 48ms/step - loss: 0.1827 - mse: 0.1827 - val_loss: 0.2438 - val_mse: 0.2438\n",
      "Epoch 13/100\n",
      "1688/1688 [==============================] - 80s 48ms/step - loss: 0.2932 - mse: 0.2932 - val_loss: 0.4323 - val_mse: 0.4323\n",
      "Epoch 14/100\n",
      "1688/1688 [==============================] - 80s 48ms/step - loss: 0.1953 - mse: 0.1953 - val_loss: 0.4905 - val_mse: 0.4905\n",
      "Epoch 15/100\n",
      "1688/1688 [==============================] - 80s 48ms/step - loss: 0.1055 - mse: 0.1055 - val_loss: 0.0219 - val_mse: 0.0219\n",
      "Epoch 16/100\n",
      "1688/1688 [==============================] - 80s 48ms/step - loss: 0.0385 - mse: 0.0385 - val_loss: 0.0215 - val_mse: 0.0215\n",
      "Epoch 17/100\n",
      "1688/1688 [==============================] - 81s 48ms/step - loss: 0.0255 - mse: 0.0255 - val_loss: 0.0144 - val_mse: 0.0144\n",
      "Epoch 18/100\n",
      "1688/1688 [==============================] - 79s 47ms/step - loss: 0.0170 - mse: 0.0170 - val_loss: 0.0077 - val_mse: 0.0077\n",
      "Epoch 19/100\n",
      "1688/1688 [==============================] - 81s 48ms/step - loss: 133.0071 - mse: 133.0071 - val_loss: 0.6281 - val_mse: 0.6281\n",
      "Epoch 20/100\n",
      "1688/1688 [==============================] - 80s 48ms/step - loss: 0.4767 - mse: 0.4767 - val_loss: 0.1106 - val_mse: 0.1106\n",
      "Epoch 21/100\n",
      "1688/1688 [==============================] - 80s 48ms/step - loss: 0.3088 - mse: 0.3088 - val_loss: 1.5901 - val_mse: 1.5901\n",
      "Epoch 22/100\n",
      "1688/1688 [==============================] - 81s 48ms/step - loss: 0.3314 - mse: 0.3314 - val_loss: 0.3247 - val_mse: 0.3247\n",
      "Epoch 23/100\n",
      "1688/1688 [==============================] - 81s 48ms/step - loss: 0.2143 - mse: 0.2143 - val_loss: 0.5604 - val_mse: 0.5604\n",
      "Epoch 24/100\n",
      "1688/1688 [==============================] - 80s 48ms/step - loss: 0.1097 - mse: 0.1097 - val_loss: 0.0554 - val_mse: 0.0554\n",
      "Epoch 25/100\n",
      "1688/1688 [==============================] - 81s 48ms/step - loss: 0.0664 - mse: 0.0664 - val_loss: 0.0144 - val_mse: 0.0144\n",
      "Epoch 26/100\n",
      "1688/1688 [==============================] - 81s 48ms/step - loss: 0.0356 - mse: 0.0356 - val_loss: 0.0087 - val_mse: 0.0087\n",
      "Epoch 27/100\n",
      "1688/1688 [==============================] - 81s 48ms/step - loss: 0.0231 - mse: 0.0231 - val_loss: 0.0065 - val_mse: 0.0065\n",
      "Epoch 28/100\n",
      "1688/1688 [==============================] - 81s 48ms/step - loss: 167.1927 - mse: 167.1927 - val_loss: 8.7216 - val_mse: 8.7216\n",
      "Epoch 29/100\n",
      "1688/1688 [==============================] - 80s 47ms/step - loss: 2.2490 - mse: 2.2490 - val_loss: 1.2293 - val_mse: 1.2293\n",
      "Epoch 30/100\n",
      "1688/1688 [==============================] - 81s 48ms/step - loss: 1.6615 - mse: 1.6615 - val_loss: 1.5840 - val_mse: 1.5840\n",
      "Epoch 31/100\n",
      "1688/1688 [==============================] - 82s 48ms/step - loss: 0.9203 - mse: 0.9203 - val_loss: 0.8460 - val_mse: 0.8460\n",
      "Epoch 32/100\n",
      "1688/1688 [==============================] - 81s 48ms/step - loss: 0.4568 - mse: 0.4568 - val_loss: 0.0335 - val_mse: 0.0335\n",
      "Epoch 33/100\n",
      "1688/1688 [==============================] - 81s 48ms/step - loss: 0.2113 - mse: 0.2113 - val_loss: 0.0293 - val_mse: 0.0293\n",
      "Epoch 34/100\n",
      "1688/1688 [==============================] - 82s 48ms/step - loss: 0.0998 - mse: 0.0998 - val_loss: 0.0397 - val_mse: 0.0397\n",
      "Epoch 35/100\n",
      "1688/1688 [==============================] - 82s 48ms/step - loss: 0.0505 - mse: 0.0505 - val_loss: 0.0318 - val_mse: 0.0318\n",
      "Epoch 36/100\n",
      "1688/1688 [==============================] - 82s 48ms/step - loss: 0.0280 - mse: 0.0280 - val_loss: 0.0062 - val_mse: 0.0062\n",
      "Epoch 37/100\n",
      "1688/1688 [==============================] - 80s 47ms/step - loss: 0.0216 - mse: 0.0216 - val_loss: 0.0178 - val_mse: 0.0178\n",
      "Epoch 38/100\n",
      "1688/1688 [==============================] - 80s 47ms/step - loss: 6.6836 - mse: 6.6836 - val_loss: 0.0214 - val_mse: 0.0214\n",
      "Epoch 39/100\n",
      "1688/1688 [==============================] - 81s 48ms/step - loss: 0.0813 - mse: 0.0813 - val_loss: 0.1023 - val_mse: 0.1023\n",
      "Epoch 40/100\n",
      "1688/1688 [==============================] - 80s 48ms/step - loss: 0.1016 - mse: 0.1016 - val_loss: 0.0147 - val_mse: 0.0147\n",
      "Epoch 41/100\n",
      "1688/1688 [==============================] - 81s 48ms/step - loss: 0.0548 - mse: 0.0548 - val_loss: 0.0467 - val_mse: 0.0467\n",
      "Epoch 42/100\n",
      "1688/1688 [==============================] - 81s 48ms/step - loss: 0.0217 - mse: 0.0217 - val_loss: 0.0084 - val_mse: 0.0084\n",
      "Epoch 43/100\n",
      "1688/1688 [==============================] - 81s 48ms/step - loss: 0.0138 - mse: 0.0138 - val_loss: 0.0115 - val_mse: 0.0115\n",
      "Epoch 44/100\n",
      "1688/1688 [==============================] - 81s 48ms/step - loss: 0.0144 - mse: 0.0144 - val_loss: 0.0052 - val_mse: 0.0052\n",
      "Epoch 45/100\n",
      "1688/1688 [==============================] - 81s 48ms/step - loss: 7.2646 - mse: 7.2646 - val_loss: 0.0481 - val_mse: 0.0481\n",
      "Epoch 46/100\n",
      "1688/1688 [==============================] - 81s 48ms/step - loss: 0.1159 - mse: 0.1159 - val_loss: 0.0583 - val_mse: 0.0583\n",
      "Epoch 47/100\n",
      "1688/1688 [==============================] - 81s 48ms/step - loss: 0.1103 - mse: 0.1103 - val_loss: 0.0189 - val_mse: 0.0189\n",
      "Epoch 48/100\n",
      "1688/1688 [==============================] - 81s 48ms/step - loss: 0.0679 - mse: 0.0679 - val_loss: 0.0129 - val_mse: 0.0129\n",
      "Epoch 49/100\n",
      "1688/1688 [==============================] - 80s 48ms/step - loss: 0.0329 - mse: 0.0329 - val_loss: 0.0402 - val_mse: 0.0402\n",
      "Epoch 50/100\n",
      "1688/1688 [==============================] - 81s 48ms/step - loss: 0.0180 - mse: 0.0180 - val_loss: 0.0066 - val_mse: 0.0066\n",
      "Epoch 51/100\n",
      "1688/1688 [==============================] - 80s 48ms/step - loss: 3.7460 - mse: 3.7460 - val_loss: 0.1310 - val_mse: 0.1310\n",
      "Epoch 52/100\n",
      "1688/1688 [==============================] - 81s 48ms/step - loss: 0.0840 - mse: 0.0840 - val_loss: 0.0697 - val_mse: 0.0697\n",
      "Epoch 53/100\n",
      "1688/1688 [==============================] - 80s 47ms/step - loss: 0.1117 - mse: 0.1117 - val_loss: 0.0779 - val_mse: 0.0779\n",
      "Epoch 54/100\n",
      "1688/1688 [==============================] - 80s 48ms/step - loss: 0.0376 - mse: 0.0376 - val_loss: 0.0702 - val_mse: 0.0702\n",
      "Epoch 55/100\n",
      "1688/1688 [==============================] - 81s 48ms/step - loss: 0.0201 - mse: 0.0201 - val_loss: 0.0250 - val_mse: 0.0250\n",
      "Epoch 56/100\n",
      "1688/1688 [==============================] - 81s 48ms/step - loss: 61.1712 - mse: 61.1712 - val_loss: 0.0864 - val_mse: 0.0864\n",
      "Epoch 57/100\n",
      "1688/1688 [==============================] - 81s 48ms/step - loss: 0.2602 - mse: 0.2602 - val_loss: 1.0116 - val_mse: 1.0116\n",
      "Epoch 58/100\n",
      "1688/1688 [==============================] - 80s 48ms/step - loss: 0.6199 - mse: 0.6199 - val_loss: 6.0674 - val_mse: 6.0674\n",
      "Epoch 59/100\n",
      "1688/1688 [==============================] - 80s 48ms/step - loss: 0.4282 - mse: 0.4282 - val_loss: 0.1469 - val_mse: 0.1469\n",
      "Epoch 60/100\n",
      "1688/1688 [==============================] - 81s 48ms/step - loss: 0.4518 - mse: 0.4518 - val_loss: 0.0825 - val_mse: 0.0825\n",
      "Epoch 61/100\n",
      "1688/1688 [==============================] - 80s 48ms/step - loss: 0.1016 - mse: 0.1016 - val_loss: 0.0812 - val_mse: 0.0812\n",
      "Epoch 62/100\n",
      "1688/1688 [==============================] - 80s 48ms/step - loss: 2.7687 - mse: 2.7687 - val_loss: 0.0233 - val_mse: 0.0233\n",
      "Epoch 63/100\n",
      "1688/1688 [==============================] - 80s 48ms/step - loss: 0.0952 - mse: 0.0952 - val_loss: 0.3302 - val_mse: 0.3302\n",
      "Epoch 64/100\n",
      "1688/1688 [==============================] - 80s 48ms/step - loss: 0.0883 - mse: 0.0883 - val_loss: 0.0171 - val_mse: 0.0171\n",
      "Epoch 65/100\n",
      "1688/1688 [==============================] - 81s 48ms/step - loss: 0.0497 - mse: 0.0497 - val_loss: 0.0833 - val_mse: 0.0833\n",
      "Epoch 66/100\n",
      "1688/1688 [==============================] - 80s 48ms/step - loss: 0.0251 - mse: 0.0251 - val_loss: 0.0059 - val_mse: 0.0059\n",
      "Epoch 67/100\n",
      "1688/1688 [==============================] - 81s 48ms/step - loss: 0.0151 - mse: 0.0151 - val_loss: 0.0200 - val_mse: 0.0200\n",
      "Epoch 68/100\n",
      "1688/1688 [==============================] - 79s 47ms/step - loss: 0.0151 - mse: 0.0151 - val_loss: 0.0043 - val_mse: 0.0043\n",
      "Epoch 69/100\n",
      "1688/1688 [==============================] - 79s 47ms/step - loss: 0.0131 - mse: 0.0131 - val_loss: 0.0090 - val_mse: 0.0090\n",
      "Epoch 70/100\n",
      "1688/1688 [==============================] - 81s 48ms/step - loss: 4.2106 - mse: 4.2106 - val_loss: 0.0158 - val_mse: 0.0158\n",
      "Epoch 71/100\n",
      "1688/1688 [==============================] - 81s 48ms/step - loss: 0.1449 - mse: 0.1449 - val_loss: 0.0162 - val_mse: 0.0162\n",
      "Epoch 72/100\n",
      "1688/1688 [==============================] - 81s 48ms/step - loss: 0.1054 - mse: 0.1054 - val_loss: 0.0573 - val_mse: 0.0573\n",
      "Epoch 73/100\n",
      "1688/1688 [==============================] - 80s 48ms/step - loss: 0.0527 - mse: 0.0527 - val_loss: 0.0279 - val_mse: 0.0279\n",
      "Epoch 74/100\n",
      "1688/1688 [==============================] - 79s 47ms/step - loss: 3.9910 - mse: 3.9910 - val_loss: 0.0636 - val_mse: 0.0636\n",
      "Epoch 75/100\n",
      "1688/1688 [==============================] - 81s 48ms/step - loss: 0.2067 - mse: 0.2067 - val_loss: 0.0245 - val_mse: 0.0245\n",
      "Epoch 76/100\n",
      "1688/1688 [==============================] - 80s 48ms/step - loss: 0.1713 - mse: 0.1713 - val_loss: 0.1054 - val_mse: 0.1054\n",
      "Epoch 77/100\n",
      "1688/1688 [==============================] - 80s 48ms/step - loss: 0.0851 - mse: 0.0851 - val_loss: 0.0577 - val_mse: 0.0577\n",
      "Epoch 78/100\n",
      "1688/1688 [==============================] - 81s 48ms/step - loss: 0.0351 - mse: 0.0351 - val_loss: 0.0424 - val_mse: 0.0424\n",
      "Epoch 79/100\n",
      "1688/1688 [==============================] - 81s 48ms/step - loss: 0.0179 - mse: 0.0179 - val_loss: 0.0079 - val_mse: 0.0079\n",
      "Epoch 80/100\n",
      "1688/1688 [==============================] - 81s 48ms/step - loss: 0.5777 - mse: 0.5777 - val_loss: 0.1218 - val_mse: 0.1218\n",
      "Epoch 81/100\n",
      "1688/1688 [==============================] - 81s 48ms/step - loss: 0.0457 - mse: 0.0457 - val_loss: 0.0689 - val_mse: 0.0689\n",
      "Epoch 82/100\n",
      "1688/1688 [==============================] - 81s 48ms/step - loss: 0.0210 - mse: 0.0210 - val_loss: 0.0031 - val_mse: 0.0031\n",
      "Epoch 83/100\n",
      "1688/1688 [==============================] - 81s 48ms/step - loss: 0.0123 - mse: 0.0123 - val_loss: 0.0224 - val_mse: 0.0224\n",
      "Epoch 84/100\n",
      "1688/1688 [==============================] - 81s 48ms/step - loss: 0.0123 - mse: 0.0123 - val_loss: 0.0058 - val_mse: 0.0058\n",
      "Epoch 85/100\n",
      "1688/1688 [==============================] - 80s 47ms/step - loss: 0.0091 - mse: 0.0091 - val_loss: 0.0076 - val_mse: 0.0076\n",
      "Epoch 86/100\n",
      "1688/1688 [==============================] - 80s 48ms/step - loss: 0.3973 - mse: 0.3973 - val_loss: 0.1009 - val_mse: 0.1009\n",
      "Epoch 87/100\n",
      "1688/1688 [==============================] - 81s 48ms/step - loss: 0.0360 - mse: 0.0360 - val_loss: 0.0442 - val_mse: 0.0442\n",
      "Epoch 88/100\n",
      "1688/1688 [==============================] - 80s 48ms/step - loss: 0.0223 - mse: 0.0223 - val_loss: 0.0208 - val_mse: 0.0208\n",
      "Epoch 89/100\n",
      "1688/1688 [==============================] - 80s 48ms/step - loss: 0.0113 - mse: 0.0113 - val_loss: 0.0043 - val_mse: 0.0043\n",
      "Epoch 90/100\n",
      "1688/1688 [==============================] - 81s 48ms/step - loss: 0.0072 - mse: 0.0072 - val_loss: 0.0073 - val_mse: 0.0073\n",
      "Epoch 91/100\n",
      "1688/1688 [==============================] - 81s 48ms/step - loss: 0.0061 - mse: 0.0061 - val_loss: 0.0041 - val_mse: 0.0041\n",
      "Epoch 92/100\n",
      "1688/1688 [==============================] - 80s 48ms/step - loss: 0.0576 - mse: 0.0576 - val_loss: 0.0159 - val_mse: 0.0159\n",
      "Epoch 93/100\n",
      "1688/1688 [==============================] - 80s 48ms/step - loss: 0.0121 - mse: 0.0121 - val_loss: 0.0081 - val_mse: 0.0081\n",
      "Epoch 94/100\n",
      "1688/1688 [==============================] - 81s 48ms/step - loss: 0.0072 - mse: 0.0072 - val_loss: 0.0160 - val_mse: 0.0160\n",
      "Epoch 95/100\n",
      "1688/1688 [==============================] - 81s 48ms/step - loss: 0.0051 - mse: 0.0051 - val_loss: 0.0049 - val_mse: 0.0049\n",
      "Epoch 96/100\n",
      "1688/1688 [==============================] - 80s 48ms/step - loss: 0.0043 - mse: 0.0043 - val_loss: 0.0026 - val_mse: 0.0026\n",
      "Epoch 97/100\n",
      "1688/1688 [==============================] - 80s 48ms/step - loss: 0.0036 - mse: 0.0036 - val_loss: 0.0046 - val_mse: 0.0046\n",
      "Epoch 98/100\n",
      "1688/1688 [==============================] - 81s 48ms/step - loss: 0.0030 - mse: 0.0030 - val_loss: 0.0040 - val_mse: 0.0040\n",
      "Epoch 99/100\n",
      "1688/1688 [==============================] - 80s 48ms/step - loss: 0.0028 - mse: 0.0028 - val_loss: 0.0055 - val_mse: 0.0055\n",
      "Epoch 100/100\n",
      "1688/1688 [==============================] - 80s 47ms/step - loss: 0.0026 - mse: 0.0026 - val_loss: 0.0021 - val_mse: 0.0021\n"
     ]
    },
    {
     "data": {
      "text/plain": [
       "<tensorflow.python.keras.callbacks.History at 0x1fbce924a30>"
      ]
     },
     "execution_count": 12,
     "metadata": {},
     "output_type": "execute_result"
    }
   ],
   "source": [
    "model.fit(X, Y, batch_size=32, epochs=EPOCH_COUNT, validation_split=0.1, callbacks=[tensorboard])"
   ]
  },
  {
   "cell_type": "markdown",
   "metadata": {},
   "source": [
    "# Test\n"
   ]
  },
  {
   "cell_type": "code",
   "execution_count": 13,
   "metadata": {},
   "outputs": [],
   "source": [
    "# model = tf.keras.models.load_model(\"./models/single_rgb_image_big_dataset\")\n"
   ]
  },
  {
   "cell_type": "code",
   "execution_count": 14,
   "metadata": {},
   "outputs": [],
   "source": [
    "# # Alias\n",
    "\n",
    "# img1 = Image.open(\n",
    "#     \"D:\\Main\\MA_PROGR\\Data\\Train\\LED_Wand_Aufnahmen\\Alias\\LED_Wand_20001.png\")\n",
    "# img1 = np.asarray(img1)/255\n",
    "\n",
    "\n",
    "\n",
    "\n",
    "# img1 = img1.reshape(1,60,60,3)\n",
    "# print(img1.shape)\n",
    "# # print(img1)\n",
    "# res1 = model.predict(img1)\n",
    "# print(res1)\n"
   ]
  },
  {
   "cell_type": "code",
   "execution_count": null,
   "metadata": {},
   "outputs": [],
   "source": []
  },
  {
   "cell_type": "code",
   "execution_count": 15,
   "metadata": {},
   "outputs": [],
   "source": [
    "# # NoAlias\n",
    "\n",
    "# img2 = Image.open(\n",
    "#     \"D:\\\\Main\\\\MA_PROGR\\\\Data\\\\Train\\\\LED_Wand_Aufnahmen\\\\NoAlias\\\\abstract_cross_203.png\")\n",
    "# img2 = np.asarray(img2)/255\n",
    "\n",
    "# img2 = img2.reshape(1, 60, 60, 3)\n",
    "# img2.shape\n",
    "# # print(img2)\n",
    "# res2 = model.predict(img2)\n",
    "# print(res2)\n"
   ]
  },
  {
   "cell_type": "code",
   "execution_count": 16,
   "metadata": {},
   "outputs": [],
   "source": [
    "# import matplotlib.pyplot as plt\n",
    "# plt.imshow(img2.reshape(60, 60, 3))\n"
   ]
  },
  {
   "cell_type": "code",
   "execution_count": 17,
   "metadata": {},
   "outputs": [
    {
     "name": "stderr",
     "output_type": "stream",
     "text": [
      "WARNING:absl:Found untraced functions such as leaky_re_lu_layer_call_and_return_conditional_losses, leaky_re_lu_layer_call_fn, leaky_re_lu_1_layer_call_and_return_conditional_losses, leaky_re_lu_1_layer_call_fn, leaky_re_lu_2_layer_call_and_return_conditional_losses while saving (showing 5 of 30). These functions will not be directly callable after loading.\n"
     ]
    },
    {
     "name": "stdout",
     "output_type": "stream",
     "text": [
      "INFO:tensorflow:Assets written to: ./models/single_rgb_image_regression_V02_epochs_100_1653595623\\assets\n"
     ]
    },
    {
     "name": "stderr",
     "output_type": "stream",
     "text": [
      "INFO:tensorflow:Assets written to: ./models/single_rgb_image_regression_V02_epochs_100_1653595623\\assets\n"
     ]
    }
   ],
   "source": [
    "tf.keras.models.save_model(model, \"./models/{}\".format(NAME))"
   ]
  },
  {
   "cell_type": "code",
   "execution_count": null,
   "metadata": {},
   "outputs": [],
   "source": []
  }
 ],
 "metadata": {
  "interpreter": {
   "hash": "d43609f6cdec273ce12557ca6f3f8247541891c98e0751903c9ccac41aea639d"
  },
  "kernelspec": {
   "display_name": "Python 3.9.7 ('tf_gpu')",
   "language": "python",
   "name": "python3"
  },
  "language_info": {
   "codemirror_mode": {
    "name": "ipython",
    "version": 3
   },
   "file_extension": ".py",
   "mimetype": "text/x-python",
   "name": "python",
   "nbconvert_exporter": "python",
   "pygments_lexer": "ipython3",
   "version": "3.9.7"
  },
  "orig_nbformat": 4
 },
 "nbformat": 4,
 "nbformat_minor": 2
}
