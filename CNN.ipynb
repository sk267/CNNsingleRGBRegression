{
 "cells": [
  {
   "cell_type": "code",
   "execution_count": 1,
   "metadata": {},
   "outputs": [],
   "source": [
    "import tensorflow as tf\n",
    "from tensorflow.keras.models import Sequential\n",
    "from tensorflow.keras.layers import Dense, Dropout, Activation, Flatten, Conv2D, MaxPool2D, BatchNormalization, LeakyReLU\n",
    "import numpy as np\n",
    "from PIL import Image\n",
    "from tensorflow.keras.preprocessing.image import ImageDataGenerator\n",
    "from tensorflow.keras.callbacks import TensorBoard\n",
    "import time\n"
   ]
  },
  {
   "cell_type": "code",
   "execution_count": 2,
   "metadata": {},
   "outputs": [],
   "source": [
    "EPOCH_COUNT = 20\n",
    "\n",
    "NAME = f\"single_rgb_image_regression_V03_epochs_{EPOCH_COUNT}_mit_Sigmoid_{int(time.time())}\"\n"
   ]
  },
  {
   "cell_type": "code",
   "execution_count": 3,
   "metadata": {},
   "outputs": [],
   "source": [
    "tensorboard = TensorBoard(log_dir=\"logs/{}\".format(NAME))"
   ]
  },
  {
   "cell_type": "code",
   "execution_count": 4,
   "metadata": {},
   "outputs": [],
   "source": [
    "# def create_data_via_ImageDataGenerator():\n",
    "#     train = ImageDataGenerator(rescale=1/255)\n",
    "#     validation = ImageDataGenerator(rescale=1/255)\n",
    "#     train_dataset = train.flow_from_directory(\"../Data/Train/smallTown\",\n",
    "#                                               target_size=(60, 60), batch_size=3, class_mode='binary')\n",
    "#     validation_dataset = train.flow_from_directory(\"../Data/Train/smallTown\",\n",
    "#                                                target_size=(60, 60), batch_size=3, class_mode='binary')\n"
   ]
  },
  {
   "cell_type": "code",
   "execution_count": 3,
   "metadata": {},
   "outputs": [],
   "source": [
    "import numpy as np\n",
    "def load_data_via_numpy_load():\n",
    "    return (np.load(\"CNN_trainset_single_RGB_regression_V03_X.npy\")/255, np.load(\"CNN_trainset_single_RGB_regression_V03_Y.npy\"))\n"
   ]
  },
  {
   "cell_type": "code",
   "execution_count": 4,
   "metadata": {},
   "outputs": [],
   "source": [
    "X, Y = load_data_via_numpy_load()\n"
   ]
  },
  {
   "cell_type": "code",
   "execution_count": 7,
   "metadata": {},
   "outputs": [
    {
     "data": {
      "text/plain": [
       "array([[[0.38431373, 0.38431373, 0.43137255],\n",
       "        [0.3372549 , 0.3254902 , 0.36078431],\n",
       "        [0.35686275, 0.34901961, 0.38431373],\n",
       "        ...,\n",
       "        [0.29803922, 0.37647059, 0.36470588],\n",
       "        [0.33333333, 0.42745098, 0.41176471],\n",
       "        [0.35686275, 0.45882353, 0.43529412]],\n",
       "\n",
       "       [[0.33333333, 0.3254902 , 0.3372549 ],\n",
       "        [0.35294118, 0.3372549 , 0.35294118],\n",
       "        [0.36078431, 0.35294118, 0.36470588],\n",
       "        ...,\n",
       "        [0.34901961, 0.40392157, 0.39215686],\n",
       "        [0.36078431, 0.42745098, 0.40784314],\n",
       "        [0.41960784, 0.48235294, 0.4627451 ]],\n",
       "\n",
       "       [[0.55686275, 0.49803922, 0.51764706],\n",
       "        [0.45490196, 0.40392157, 0.42352941],\n",
       "        [0.39215686, 0.37254902, 0.39215686],\n",
       "        ...,\n",
       "        [0.35294118, 0.40784314, 0.40392157],\n",
       "        [0.37647059, 0.45098039, 0.45098039],\n",
       "        [0.41176471, 0.48627451, 0.49019608]],\n",
       "\n",
       "       ...,\n",
       "\n",
       "       [[0.34509804, 0.33333333, 0.34901961],\n",
       "        [0.30980392, 0.30588235, 0.31764706],\n",
       "        [0.24705882, 0.28627451, 0.29019608],\n",
       "        ...,\n",
       "        [0.18823529, 0.19607843, 0.20392157],\n",
       "        [0.19215686, 0.19607843, 0.20392157],\n",
       "        [0.20392157, 0.20784314, 0.21568627]],\n",
       "\n",
       "       [[0.39215686, 0.39215686, 0.43529412],\n",
       "        [0.27843137, 0.31764706, 0.35294118],\n",
       "        [0.2627451 , 0.31764706, 0.34509804],\n",
       "        ...,\n",
       "        [0.15686275, 0.18039216, 0.19607843],\n",
       "        [0.14901961, 0.17254902, 0.18431373],\n",
       "        [0.14901961, 0.16470588, 0.18039216]],\n",
       "\n",
       "       [[0.23921569, 0.29019608, 0.29411765],\n",
       "        [0.23921569, 0.29411765, 0.29803922],\n",
       "        [0.22745098, 0.28627451, 0.29019608],\n",
       "        ...,\n",
       "        [0.16862745, 0.2       , 0.21176471],\n",
       "        [0.15294118, 0.18431373, 0.19215686],\n",
       "        [0.16470588, 0.18823529, 0.19215686]]])"
      ]
     },
     "execution_count": 7,
     "metadata": {},
     "output_type": "execute_result"
    }
   ],
   "source": [
    "X[0]\n"
   ]
  },
  {
   "cell_type": "code",
   "execution_count": 8,
   "metadata": {},
   "outputs": [
    {
     "data": {
      "text/plain": [
       "48000"
      ]
     },
     "execution_count": 8,
     "metadata": {},
     "output_type": "execute_result"
    }
   ],
   "source": [
    "Y.tolist().count(0)"
   ]
  },
  {
   "cell_type": "code",
   "execution_count": 9,
   "metadata": {},
   "outputs": [
    {
     "data": {
      "text/plain": [
       "(10000, 60, 60, 3)"
      ]
     },
     "execution_count": 9,
     "metadata": {},
     "output_type": "execute_result"
    }
   ],
   "source": [
    "X = X[0:10000]\n",
    "Y = Y[0:10000]\n",
    "\n",
    "X.shape"
   ]
  },
  {
   "cell_type": "code",
   "execution_count": 10,
   "metadata": {},
   "outputs": [
    {
     "data": {
      "text/plain": [
       "(10000, 60, 60, 3)"
      ]
     },
     "execution_count": 10,
     "metadata": {},
     "output_type": "execute_result"
    }
   ],
   "source": [
    "\n",
    "\n",
    "X = X.reshape(-1, 60, 60, 3)\n",
    "\n",
    "X.shape\n"
   ]
  },
  {
   "cell_type": "code",
   "execution_count": 11,
   "metadata": {},
   "outputs": [],
   "source": [
    "def build_model():\n",
    "    model = Sequential()\n",
    "\n",
    "    # 1st Conv-Layer\n",
    "    model.add(Conv2D(128, (3, 3), input_shape=(X.shape[1:])))\n",
    "    model.add(Activation(LeakyReLU(alpha=0.2)))\n",
    "    model.add(BatchNormalization())\n",
    "    model.add(MaxPool2D(2, 2))\n",
    "\n",
    "    # 2nd Conv-Layer\n",
    "    model.add(Conv2D(192, (3, 3)))\n",
    "    model.add(Activation(LeakyReLU(alpha=0.2)))\n",
    "    model.add(BatchNormalization())\n",
    "    model.add(MaxPool2D(pool_size=(2, 2)))\n",
    "    \n",
    "    # 3rd Conv-Layer\n",
    "    model.add(Conv2D(320, (3, 3)))\n",
    "    model.add(Activation(LeakyReLU(alpha=0.2)))\n",
    "    model.add(BatchNormalization())\n",
    "    model.add(MaxPool2D(pool_size=(2, 2)))\n",
    "\n",
    "    # 4th Conv-Layer\n",
    "    model.add(Conv2D(576, (3, 3)))\n",
    "    model.add(Activation(LeakyReLU(alpha=0.2)))\n",
    "    model.add(BatchNormalization())\n",
    "    model.add(MaxPool2D(pool_size=(2, 2)))\n",
    "\n",
    "    model.add(Flatten())\n",
    "\n",
    "    # 1st Fully-Connected\n",
    "    model.add(Dense(4096))\n",
    "    model.add(Activation(LeakyReLU(alpha=0.2)))\n",
    "\n",
    "    # 2nd Fully-Connected\n",
    "    model.add(Dense(4096))\n",
    "    model.add(Activation(LeakyReLU(alpha=0.2)))\n",
    "\n",
    "    # 3rd Fully-Connected\n",
    "    model.add(Dense(1))\n",
    "    model.add(Activation(\"sigmoid\"))\n",
    "    return model\n",
    "\n",
    "\n",
    "model = build_model()\n"
   ]
  },
  {
   "cell_type": "code",
   "execution_count": 12,
   "metadata": {},
   "outputs": [
    {
     "name": "stdout",
     "output_type": "stream",
     "text": [
      "Model: \"sequential\"\n",
      "_________________________________________________________________\n",
      "Layer (type)                 Output Shape              Param #   \n",
      "=================================================================\n",
      "conv2d (Conv2D)              (None, 58, 58, 128)       3584      \n",
      "_________________________________________________________________\n",
      "activation (Activation)      (None, 58, 58, 128)       0         \n",
      "_________________________________________________________________\n",
      "batch_normalization (BatchNo (None, 58, 58, 128)       512       \n",
      "_________________________________________________________________\n",
      "max_pooling2d (MaxPooling2D) (None, 29, 29, 128)       0         \n",
      "_________________________________________________________________\n",
      "conv2d_1 (Conv2D)            (None, 27, 27, 192)       221376    \n",
      "_________________________________________________________________\n",
      "activation_1 (Activation)    (None, 27, 27, 192)       0         \n",
      "_________________________________________________________________\n",
      "batch_normalization_1 (Batch (None, 27, 27, 192)       768       \n",
      "_________________________________________________________________\n",
      "max_pooling2d_1 (MaxPooling2 (None, 13, 13, 192)       0         \n",
      "_________________________________________________________________\n",
      "conv2d_2 (Conv2D)            (None, 11, 11, 320)       553280    \n",
      "_________________________________________________________________\n",
      "activation_2 (Activation)    (None, 11, 11, 320)       0         \n",
      "_________________________________________________________________\n",
      "batch_normalization_2 (Batch (None, 11, 11, 320)       1280      \n",
      "_________________________________________________________________\n",
      "max_pooling2d_2 (MaxPooling2 (None, 5, 5, 320)         0         \n",
      "_________________________________________________________________\n",
      "conv2d_3 (Conv2D)            (None, 3, 3, 576)         1659456   \n",
      "_________________________________________________________________\n",
      "activation_3 (Activation)    (None, 3, 3, 576)         0         \n",
      "_________________________________________________________________\n",
      "batch_normalization_3 (Batch (None, 3, 3, 576)         2304      \n",
      "_________________________________________________________________\n",
      "max_pooling2d_3 (MaxPooling2 (None, 1, 1, 576)         0         \n",
      "_________________________________________________________________\n",
      "flatten (Flatten)            (None, 576)               0         \n",
      "_________________________________________________________________\n",
      "dense (Dense)                (None, 4096)              2363392   \n",
      "_________________________________________________________________\n",
      "activation_4 (Activation)    (None, 4096)              0         \n",
      "_________________________________________________________________\n",
      "dense_1 (Dense)              (None, 4096)              16781312  \n",
      "_________________________________________________________________\n",
      "activation_5 (Activation)    (None, 4096)              0         \n",
      "_________________________________________________________________\n",
      "dense_2 (Dense)              (None, 1)                 4097      \n",
      "_________________________________________________________________\n",
      "activation_6 (Activation)    (None, 1)                 0         \n",
      "=================================================================\n",
      "Total params: 21,591,361\n",
      "Trainable params: 21,588,929\n",
      "Non-trainable params: 2,432\n",
      "_________________________________________________________________\n"
     ]
    }
   ],
   "source": [
    "\n",
    "model.compile(loss=\"mse\", optimizer=\"adam\", metrics=[\"mse\"])\n",
    "model.summary()"
   ]
  },
  {
   "cell_type": "code",
   "execution_count": 13,
   "metadata": {},
   "outputs": [
    {
     "name": "stdout",
     "output_type": "stream",
     "text": [
      "Epoch 1/20\n",
      "282/282 [==============================] - 50s 61ms/step - loss: 0.2007 - mse: 0.2007 - val_loss: 0.2034 - val_mse: 0.2034\n",
      "Epoch 2/20\n",
      "282/282 [==============================] - 13s 47ms/step - loss: 0.4703 - mse: 0.4703 - val_loss: 0.5284 - val_mse: 0.5284\n",
      "Epoch 3/20\n",
      "282/282 [==============================] - 13s 47ms/step - loss: 0.4081 - mse: 0.4081 - val_loss: 0.3974 - val_mse: 0.3974\n",
      "Epoch 4/20\n",
      "282/282 [==============================] - 13s 47ms/step - loss: 0.3523 - mse: 0.3523 - val_loss: 0.2173 - val_mse: 0.2173\n",
      "Epoch 5/20\n",
      "282/282 [==============================] - 13s 47ms/step - loss: 0.2368 - mse: 0.2368 - val_loss: 0.2094 - val_mse: 0.2094\n",
      "Epoch 6/20\n",
      "282/282 [==============================] - 13s 47ms/step - loss: 0.2371 - mse: 0.2371 - val_loss: 0.2094 - val_mse: 0.2094\n",
      "Epoch 7/20\n",
      "282/282 [==============================] - 13s 47ms/step - loss: 0.2371 - mse: 0.2371 - val_loss: 0.2094 - val_mse: 0.2094\n",
      "Epoch 8/20\n",
      "282/282 [==============================] - 13s 47ms/step - loss: 0.2371 - mse: 0.2371 - val_loss: 0.2094 - val_mse: 0.2094\n",
      "Epoch 9/20\n",
      "282/282 [==============================] - 13s 47ms/step - loss: 0.2371 - mse: 0.2371 - val_loss: 0.2094 - val_mse: 0.2094\n",
      "Epoch 10/20\n",
      "282/282 [==============================] - 13s 47ms/step - loss: 0.2371 - mse: 0.2371 - val_loss: 0.2094 - val_mse: 0.2094\n",
      "Epoch 11/20\n",
      "282/282 [==============================] - 13s 47ms/step - loss: 0.2371 - mse: 0.2371 - val_loss: 0.2094 - val_mse: 0.2094\n",
      "Epoch 12/20\n",
      "282/282 [==============================] - 13s 47ms/step - loss: 0.2371 - mse: 0.2371 - val_loss: 0.2094 - val_mse: 0.2094\n",
      "Epoch 13/20\n",
      "282/282 [==============================] - 13s 47ms/step - loss: 0.2371 - mse: 0.2371 - val_loss: 0.2094 - val_mse: 0.2094\n",
      "Epoch 14/20\n",
      "282/282 [==============================] - 13s 47ms/step - loss: 0.2371 - mse: 0.2371 - val_loss: 0.2094 - val_mse: 0.2094\n",
      "Epoch 15/20\n",
      "282/282 [==============================] - 13s 47ms/step - loss: 0.2371 - mse: 0.2371 - val_loss: 0.2094 - val_mse: 0.2094\n",
      "Epoch 16/20\n",
      "282/282 [==============================] - 13s 47ms/step - loss: 0.2371 - mse: 0.2371 - val_loss: 0.2094 - val_mse: 0.2094\n",
      "Epoch 17/20\n",
      "282/282 [==============================] - 13s 47ms/step - loss: 0.2371 - mse: 0.2371 - val_loss: 0.2094 - val_mse: 0.2094\n",
      "Epoch 18/20\n",
      "282/282 [==============================] - 13s 47ms/step - loss: 0.2371 - mse: 0.2371 - val_loss: 0.2094 - val_mse: 0.2094\n",
      "Epoch 19/20\n",
      "282/282 [==============================] - 13s 47ms/step - loss: 0.2371 - mse: 0.2371 - val_loss: 0.2094 - val_mse: 0.2094\n",
      "Epoch 20/20\n",
      "282/282 [==============================] - 13s 47ms/step - loss: 0.2371 - mse: 0.2371 - val_loss: 0.2094 - val_mse: 0.2094\n"
     ]
    },
    {
     "data": {
      "text/plain": [
       "<tensorflow.python.keras.callbacks.History at 0x225989f40d0>"
      ]
     },
     "execution_count": 13,
     "metadata": {},
     "output_type": "execute_result"
    }
   ],
   "source": [
    "model.fit(X, Y, batch_size=32, epochs=EPOCH_COUNT, validation_split=0.1, callbacks=[tensorboard])"
   ]
  },
  {
   "cell_type": "markdown",
   "metadata": {},
   "source": [
    "# Test\n"
   ]
  },
  {
   "cell_type": "code",
   "execution_count": 14,
   "metadata": {},
   "outputs": [],
   "source": [
    "# model = tf.keras.models.load_model(\"./models/single_rgb_image_big_dataset\")\n"
   ]
  },
  {
   "cell_type": "code",
   "execution_count": 15,
   "metadata": {},
   "outputs": [],
   "source": [
    "# # Alias\n",
    "\n",
    "# img1 = Image.open(\n",
    "#     \"D:\\Main\\MA_PROGR\\Data\\Train\\LED_Wand_Aufnahmen\\Alias\\LED_Wand_20001.png\")\n",
    "# img1 = np.asarray(img1)/255\n",
    "\n",
    "\n",
    "\n",
    "\n",
    "# img1 = img1.reshape(1,60,60,3)\n",
    "# print(img1.shape)\n",
    "# # print(img1)\n",
    "# res1 = model.predict(img1)\n",
    "# print(res1)\n"
   ]
  },
  {
   "cell_type": "code",
   "execution_count": null,
   "metadata": {},
   "outputs": [],
   "source": []
  },
  {
   "cell_type": "code",
   "execution_count": 16,
   "metadata": {},
   "outputs": [],
   "source": [
    "# # NoAlias\n",
    "\n",
    "# img2 = Image.open(\n",
    "#     \"D:\\\\Main\\\\MA_PROGR\\\\Data\\\\Train\\\\LED_Wand_Aufnahmen\\\\NoAlias\\\\abstract_cross_203.png\")\n",
    "# img2 = np.asarray(img2)/255\n",
    "\n",
    "# img2 = img2.reshape(1, 60, 60, 3)\n",
    "# img2.shape\n",
    "# # print(img2)\n",
    "# res2 = model.predict(img2)\n",
    "# print(res2)\n"
   ]
  },
  {
   "cell_type": "code",
   "execution_count": 17,
   "metadata": {},
   "outputs": [],
   "source": [
    "# import matplotlib.pyplot as plt\n",
    "# plt.imshow(img2.reshape(60, 60, 3))\n"
   ]
  },
  {
   "cell_type": "code",
   "execution_count": 18,
   "metadata": {},
   "outputs": [
    {
     "name": "stderr",
     "output_type": "stream",
     "text": [
      "WARNING:absl:Found untraced functions such as leaky_re_lu_layer_call_fn, leaky_re_lu_layer_call_and_return_conditional_losses, leaky_re_lu_1_layer_call_fn, leaky_re_lu_1_layer_call_and_return_conditional_losses, leaky_re_lu_2_layer_call_fn while saving (showing 5 of 30). These functions will not be directly callable after loading.\n"
     ]
    },
    {
     "name": "stdout",
     "output_type": "stream",
     "text": [
      "INFO:tensorflow:Assets written to: ./models/single_rgb_image_regression_V03_epochs_20_mit_Sigmoid_1653661303\\assets\n"
     ]
    },
    {
     "name": "stderr",
     "output_type": "stream",
     "text": [
      "INFO:tensorflow:Assets written to: ./models/single_rgb_image_regression_V03_epochs_20_mit_Sigmoid_1653661303\\assets\n"
     ]
    }
   ],
   "source": [
    "tf.keras.models.save_model(model, \"./models/{}\".format(NAME))"
   ]
  },
  {
   "cell_type": "code",
   "execution_count": null,
   "metadata": {},
   "outputs": [],
   "source": []
  }
 ],
 "metadata": {
  "interpreter": {
   "hash": "bbe6f1f0ffae94815f8b68c5970304948992b116503ec65631f55d524065bfaa"
  },
  "kernelspec": {
   "display_name": "Python 3.9.7 ('tf_training')",
   "language": "python",
   "name": "python3"
  },
  "language_info": {
   "codemirror_mode": {
    "name": "ipython",
    "version": 3
   },
   "file_extension": ".py",
   "mimetype": "text/x-python",
   "name": "python",
   "nbconvert_exporter": "python",
   "pygments_lexer": "ipython3",
   "version": "3.9.7"
  },
  "orig_nbformat": 4
 },
 "nbformat": 4,
 "nbformat_minor": 2
}
