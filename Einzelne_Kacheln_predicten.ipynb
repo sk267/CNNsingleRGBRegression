{
 "cells": [
  {
   "cell_type": "code",
   "execution_count": 1,
   "metadata": {},
   "outputs": [],
   "source": [
    "import tensorflow as tf\n",
    "import numpy as np"
   ]
  },
  {
   "cell_type": "code",
   "execution_count": 2,
   "metadata": {},
   "outputs": [],
   "source": [
    "def load_data_via_numpy_load():\n",
    "    return (np.load(\"CNN_trainset_single_RGB_regression_V03_X.npy\")/255, np.load(\"CNN_trainset_single_RGB_regression_V03_Y.npy\"))\n"
   ]
  },
  {
   "cell_type": "code",
   "execution_count": 3,
   "metadata": {},
   "outputs": [],
   "source": [
    "X, Y = load_data_via_numpy_load()\n"
   ]
  },
  {
   "cell_type": "code",
   "execution_count": 72,
   "metadata": {},
   "outputs": [],
   "source": [
    "model = tf.keras.models.load_model(\n",
    "    \"./models/single_rgb_image_regression_V02_epochs_100_1653595623\")\n"
   ]
  },
  {
   "cell_type": "code",
   "execution_count": 109,
   "metadata": {},
   "outputs": [
    {
     "name": "stdout",
     "output_type": "stream",
     "text": [
      "i: 0, y: 0.25\n",
      "i: 1, y: 0.75\n",
      "i: 2, y: 0.0\n",
      "i: 3, y: 0.0\n",
      "i: 4, y: 0.5\n",
      "i: 5, y: 0.0\n",
      "i: 6, y: 0.0\n",
      "i: 7, y: 0.0\n",
      "i: 8, y: 0.5\n",
      "i: 9, y: 0.0\n",
      "i: 10, y: 0.0\n",
      "i: 11, y: 0.5\n",
      "i: 12, y: 0.0\n",
      "i: 13, y: 0.0\n",
      "i: 14, y: 1.0\n",
      "i: 15, y: 0.0\n",
      "i: 16, y: 0.0\n",
      "i: 17, y: 1.0\n",
      "i: 18, y: 0.0\n",
      "i: 19, y: 1.0\n",
      "i: 20, y: 0.75\n",
      "i: 21, y: 0.25\n",
      "i: 22, y: 0.0\n",
      "i: 23, y: 0.5\n",
      "i: 24, y: 0.75\n",
      "i: 25, y: 0.0\n",
      "i: 26, y: 0.0\n",
      "i: 27, y: 0.0\n",
      "i: 28, y: 0.0\n",
      "i: 29, y: 0.0\n"
     ]
    }
   ],
   "source": [
    "for i in range(30):\n",
    "    print(f\"i: {i}, y: {Y[i]}\")"
   ]
  },
  {
   "cell_type": "code",
   "execution_count": 116,
   "metadata": {},
   "outputs": [
    {
     "name": "stdout",
     "output_type": "stream",
     "text": [
      "0.0\n"
     ]
    }
   ],
   "source": [
    "n = 27\n",
    "# print(X[n])\n",
    "print(Y[n])\n"
   ]
  },
  {
   "cell_type": "code",
   "execution_count": 117,
   "metadata": {},
   "outputs": [],
   "source": [
    "bucket =X[n]\n",
    "bucket = bucket.reshape(-1, 60, 60, 3)\n",
    "# bucket"
   ]
  },
  {
   "cell_type": "code",
   "execution_count": 118,
   "metadata": {},
   "outputs": [
    {
     "data": {
      "text/plain": [
       "array([[0.0357087]], dtype=float32)"
      ]
     },
     "execution_count": 118,
     "metadata": {},
     "output_type": "execute_result"
    }
   ],
   "source": [
    "\n",
    "model.predict(bucket)"
   ]
  },
  {
   "cell_type": "markdown",
   "metadata": {},
   "source": [
    "## Einzelne Kacheln\n"
   ]
  },
  {
   "cell_type": "code",
   "execution_count": 119,
   "metadata": {},
   "outputs": [],
   "source": [
    "import cv2"
   ]
  },
  {
   "cell_type": "code",
   "execution_count": 129,
   "metadata": {},
   "outputs": [
    {
     "data": {
      "text/plain": [
       "array([[0.04005545]], dtype=float32)"
      ]
     },
     "execution_count": 129,
     "metadata": {},
     "output_type": "execute_result"
    }
   ],
   "source": [
    "READ_PATH = \"D:\\\\Main\\\\MA_PROGR\\\\Data\\\\Train\\\\CNN_trainset_regression_V02_Kacheln\"\n",
    "file = cv2.imread(f\"{READ_PATH}\\\\0_00\\\\0_00_300_320_1231.png\")/255\n",
    "\n",
    "file = np.array(file).reshape(-1,60,60,3)\n",
    "model.predict(file)\n"
   ]
  }
 ],
 "metadata": {
  "interpreter": {
   "hash": "bbe6f1f0ffae94815f8b68c5970304948992b116503ec65631f55d524065bfaa"
  },
  "kernelspec": {
   "display_name": "Python 3.9.7 ('tf_training')",
   "language": "python",
   "name": "python3"
  },
  "language_info": {
   "codemirror_mode": {
    "name": "ipython",
    "version": 3
   },
   "file_extension": ".py",
   "mimetype": "text/x-python",
   "name": "python",
   "nbconvert_exporter": "python",
   "pygments_lexer": "ipython3",
   "version": "3.9.7"
  },
  "orig_nbformat": 4
 },
 "nbformat": 4,
 "nbformat_minor": 2
}
